{
 "cells": [
  {
   "cell_type": "markdown",
   "id": "56198bcb-d041-4634-8ed1-ddbf1dea2e4c",
   "metadata": {
    "jp-MarkdownHeadingCollapsed": true
   },
   "source": [
    "## 🧠 Project Objectives: Agno Agent with Email Flow\n",
    "\n",
    "This agent is designed to serve as a conversational assistant inside a Jupyter notebook using [Agno](https://docs.agno.com/). It supports Q&A and a structured email-sending workflow using GROQ and the `@tool` decorator system.\n",
    "\n",
    "### 🎯 Core Objectives\n",
    "\n",
    "1. **Conversational AI Agent**  \n",
    "   Create an agent that interacts with users, answers questions, and handles requests in natural language.\n",
    "\n",
    "2. **Email Workflow Integration**  \n",
    "   When a user asks to send an email to a customer:\n",
    "   - Find the customer’s email from a mock database using a tool (`find_customer_email`).\n",
    "   - Draft the email based on the user's input.\n",
    "\n",
    "3. **Feedback & Review Loop**  \n",
    "   - Show the drafted email to the user for review.\n",
    "   - If the user responds with \"refine\" or similar feedback, regenerate the email.\n",
    "   - If the user says \"ok\" or \"send\", proceed to send the email.\n",
    "\n",
    "4. **Tool-Driven Architecture**  \n",
    "   - Implement tools using `@tool` for modular logic:\n",
    "     - `find_customer_email`: Lookup customer emails.\n",
    "     - `send_email`: Simulate sending email messages.\n",
    "\n",
    "5. **Use of Environment Variables**  \n",
    "   - Load secrets such as API keys securely using `python-dotenv`.\n",
    "\n",
    "6. **GROQ + OpenAI Backend**  \n",
    "   - Use GROQ or OpenAI as the model backend to power the agent’s reasoning and response generation.\n",
    "\n",
    "7. **Notebook-First Development**  \n",
    "   - Keep everything modular and testable within a Jupyter notebook environment.\n",
    "\n",
    "---\n"
   ]
  },
  {
   "cell_type": "code",
   "execution_count": 36,
   "id": "aaaa393e-5c57-4d7f-b05b-e18efd2a3e93",
   "metadata": {},
   "outputs": [],
   "source": [
    "# ! pip -q install openai agno\n",
    "# ! pip install pandas\n",
    "# ! pip install python-dotenv\n",
    "# ! pip install duckduckgo-search\n",
    "# ! pip install -U tavily-python\n",
    "\n"
   ]
  },
  {
   "cell_type": "markdown",
   "id": "89de35c6-9108-49ec-bd6d-b07c77091611",
   "metadata": {},
   "source": [
    "# Load Secrets"
   ]
  },
  {
   "cell_type": "code",
   "execution_count": 37,
   "id": "9d716de1-67f6-4ca9-b24d-ddc8ef842a7d",
   "metadata": {},
   "outputs": [
    {
     "name": "stdout",
     "output_type": "stream",
     "text": [
      "Loaded API Key: True\n"
     ]
    }
   ],
   "source": [
    "import os\n",
    "from dotenv import load_dotenv\n",
    "\n",
    "# Load environment variables\n",
    "load_dotenv(dotenv_path='../backend/.env')  # Adjust if not running from 'notebooks/'\n",
    "\n",
    "\n",
    "# Access the variables\n",
    "openai_key = os.getenv(\"OPENAI_API_KEY\")\n",
    "gmail_user = os.getenv(\"GMAIL_ADDRESS\")\n",
    "gmail_pass = os.getenv(\"GMAIL_APP_PASSWORD\")\n",
    "tavily_key = os.getenv(\"TAVILY_API_KEY\")\n",
    "\n",
    "\n",
    "\n",
    "print(\"Loaded API Key:\", bool(openai_key))  # Should print True if loaded\n"
   ]
  },
  {
   "cell_type": "code",
   "execution_count": 38,
   "id": "ca2e0338-d3e9-4eca-a389-b5ba7ceab5d9",
   "metadata": {},
   "outputs": [],
   "source": [
    "import os\n",
    "from dotenv import load_dotenv\n",
    "from agno.agent import Agent\n",
    "from agno.models.openai import OpenAIChat\n",
    "from agno.tools import tool\n",
    "from agno.tools.duckduckgo import DuckDuckGoTools\n",
    "from agno.tools.tavily import TavilyTools\n"
   ]
  },
  {
   "cell_type": "markdown",
   "id": "c5011520-f273-4c13-8240-27e330173eb0",
   "metadata": {},
   "source": [
    "## Create Mock Customer Dataset"
   ]
  },
  {
   "cell_type": "code",
   "execution_count": 39,
   "id": "96c4ebb7-501d-4b2e-ad8f-7c38380db430",
   "metadata": {},
   "outputs": [
    {
     "data": {
      "text/html": [
       "<div>\n",
       "<style scoped>\n",
       "    .dataframe tbody tr th:only-of-type {\n",
       "        vertical-align: middle;\n",
       "    }\n",
       "\n",
       "    .dataframe tbody tr th {\n",
       "        vertical-align: top;\n",
       "    }\n",
       "\n",
       "    .dataframe thead th {\n",
       "        text-align: right;\n",
       "    }\n",
       "</style>\n",
       "<table border=\"1\" class=\"dataframe\">\n",
       "  <thead>\n",
       "    <tr style=\"text-align: right;\">\n",
       "      <th></th>\n",
       "      <th>username</th>\n",
       "      <th>email</th>\n",
       "      <th>name</th>\n",
       "    </tr>\n",
       "  </thead>\n",
       "  <tbody>\n",
       "    <tr>\n",
       "      <th>0</th>\n",
       "      <td>nayeem</td>\n",
       "      <td>nayeem60151126@gmail.com</td>\n",
       "      <td>Nayeem</td>\n",
       "    </tr>\n",
       "    <tr>\n",
       "      <th>1</th>\n",
       "      <td>alice</td>\n",
       "      <td>alice.j@example.com</td>\n",
       "      <td>Alice Johnson</td>\n",
       "    </tr>\n",
       "    <tr>\n",
       "      <th>2</th>\n",
       "      <td>bob</td>\n",
       "      <td>bob.smith@example.com</td>\n",
       "      <td>Bob Smith</td>\n",
       "    </tr>\n",
       "  </tbody>\n",
       "</table>\n",
       "</div>"
      ],
      "text/plain": [
       "  username                     email           name\n",
       "0   nayeem  nayeem60151126@gmail.com         Nayeem\n",
       "1    alice       alice.j@example.com  Alice Johnson\n",
       "2      bob     bob.smith@example.com      Bob Smith"
      ]
     },
     "execution_count": 39,
     "metadata": {},
     "output_type": "execute_result"
    }
   ],
   "source": [
    "import pandas as pd\n",
    "\n",
    "# Create a sample user database\n",
    "user_df = pd.DataFrame([\n",
    "    {\"username\": \"nayeem\", \"email\": \"nayeem60151126@gmail.com\", \"name\": \"Nayeem\"},\n",
    "    {\"username\": \"alice\", \"email\": \"alice.j@example.com\", \"name\": \"Alice Johnson\"},\n",
    "    {\"username\": \"bob\", \"email\": \"bob.smith@example.com\", \"name\": \"Bob Smith\"},\n",
    "])\n",
    "\n",
    "user_df"
   ]
  },
  {
   "cell_type": "markdown",
   "id": "14a7ed7c-8dec-4f17-b2cd-64ce36756479",
   "metadata": {},
   "source": [
    "## Define Tools Using Agno"
   ]
  },
  {
   "cell_type": "code",
   "execution_count": 40,
   "id": "27ded026-1b05-4af6-a25c-663f5b52e988",
   "metadata": {},
   "outputs": [],
   "source": [
    "from agno.tools import tool\n",
    "\n",
    "def find_customer_email(name: str) -> str:\n",
    "    \"\"\"\n",
    "    Retrieve the email address of a customer by name from user_df.\n",
    "    \"\"\"\n",
    "    match = user_df[user_df[\"name\"].str.lower() == name.lower()]\n",
    "    if not match.empty:\n",
    "        return match.iloc[0][\"email\"]\n",
    "    return \"Email not found.\"\n"
   ]
  },
  {
   "cell_type": "code",
   "execution_count": 41,
   "id": "734b144c-fb9b-45d9-9ada-e8b2682bf0e9",
   "metadata": {},
   "outputs": [],
   "source": [
    "from agno.tools import tool\n",
    "\n",
    "def find_customer_email(name: str) -> str:\n",
    "    \"\"\"\n",
    "    Retrieve the email address of a customer by name from user_df.\n",
    "    \"\"\"\n",
    "    match = user_df[user_df[\"name\"].str.lower() == name.lower()]\n",
    "    if not match.empty:\n",
    "        return match.iloc[0][\"email\"]\n",
    "    return \"Email not found.\"\n",
    "\n",
    "import smtplib\n",
    "from email.mime.text import MIMEText\n",
    "from agno.tools import tool\n",
    "\n",
    "def send_email(to: str, subject: str, body: str) -> str:\n",
    "    \"\"\"\n",
    "    Send an email using Gmail's SMTP server.\n",
    "    \"\"\"\n",
    "    gmail_address = gmail_user\n",
    "    gmail_password = gmail_pass\n",
    "\n",
    "    if not gmail_address or not gmail_password:\n",
    "        return \"SMTP credentials are not set properly in the environment.\"\n",
    "\n",
    "    msg = MIMEText(body)\n",
    "    msg[\"Subject\"] = subject\n",
    "    msg[\"From\"] = gmail_address\n",
    "    msg[\"To\"] = to\n",
    "\n",
    "    try:\n",
    "        with smtplib.SMTP_SSL(\"smtp.gmail.com\", 465) as server:\n",
    "            server.login(gmail_address, gmail_password)\n",
    "            server.send_message(msg)\n",
    "        return \"Email sent successfully.\"\n",
    "    except Exception as e:\n",
    "        return f\"Failed to send email: {e}\"\n"
   ]
  },
  {
   "cell_type": "markdown",
   "id": "9a65ee89-a660-4d01-9689-14207d56f74d",
   "metadata": {},
   "source": [
    "#  Run the Agent"
   ]
  },
  {
   "cell_type": "code",
   "execution_count": 42,
   "id": "0b8897fa-2a74-4e4a-bc0e-3a8d081bbb9e",
   "metadata": {},
   "outputs": [],
   "source": [
    "from typing import Dict, Any, Callable\n",
    "from agno.agent import Agent\n",
    "from agno.tools import Toolkit, tool\n",
    "from agno.exceptions import StopAgentRun\n",
    "from rich.console import Console\n",
    "from rich.prompt import Prompt\n",
    "\n",
    "console = Console()\n",
    "\n",
    "# Create the agent\n",
    "agent = Agent(\n",
    "    model=OpenAIChat(id=\"gpt-4o\", api_key=openai_key),\n",
    "    tools=[find_customer_email, send_email,TavilyTools()],\n",
    "    instructions=[\n",
    "        \"You are an email assistant that can:\",\n",
    "        \"1. Look up customer email addresses\",\n",
    "        \"2. Send emails to specified addresses\",\n",
    "        \"3. When asked to send an email:\",\n",
    "        \"1. Draft the email professionally and show it to the user\",\n",
    "        \"2. Ask for feedback and make any requested changes\",\n",
    "        \"3. Only send after explicit confirmation\",\n",
    "        \"4. Be helpful and maintain a professional tone\",\n",
    "        \"5. Use Tavily Tool for web search if user needs something from the internet\",\n",
    "        \"Use the appropriate tool based on the user's request.\"\n",
    "    ],\n",
    "    # Add memory configuration\n",
    "    add_history_to_messages=True,  # Enable chat history\n",
    "    num_history_responses=3,       # Keep last 3 exchanges in memory\n",
    "    show_tool_calls=True,\n",
    "    markdown=True\n",
    ")\n"
   ]
  },
  {
   "cell_type": "code",
   "execution_count": 43,
   "id": "7f7035fc-be00-4033-a3ae-d5d22b517f4f",
   "metadata": {},
   "outputs": [],
   "source": [
    "def run_agent_loop():\n",
    "    console.print(\"[bold green]Email Assistant is running. Type 'exit' to quit.[/bold green]\")\n",
    "    while True:\n",
    "        user_input = Prompt.ask(\"\\n[bold blue]You[/bold blue]\").strip()\n",
    "        if user_input.lower() in [\"exit\", \"quit\"]:\n",
    "            console.print(\"[bold yellow]Goodbye![/bold yellow]\")\n",
    "            break\n",
    "        try:\n",
    "            agent.print_response(\n",
    "                user_input,\n",
    "                stream=True,\n",
    "                console=console\n",
    "            )\n",
    "        except Exception as e:\n",
    "            console.print(f\"[red]Error:[/red] {e}\")\n",
    "\n",
    "# Start the loop\n",
    "# run_agent_loop()\n"
   ]
  },
  {
   "cell_type": "code",
   "execution_count": null,
   "id": "e9d9967a-a5ae-44c2-8caf-0d70af00010e",
   "metadata": {},
   "outputs": [
    {
     "data": {
      "text/html": [
       "<h4 style='color:green;'>📧 Email Assistant is running</h4><small>Type your message and press 'Send' or 'Enter'. Type 'exit' or press 'Exit' to quit.</small>"
      ],
      "text/plain": [
       "<IPython.core.display.HTML object>"
      ]
     },
     "metadata": {},
     "output_type": "display_data"
    },
    {
     "data": {
      "application/vnd.jupyter.widget-view+json": {
       "model_id": "6e97e79644ac4fb3bb8a0a21c1fb123e",
       "version_major": 2,
       "version_minor": 0
      },
      "text/plain": [
       "VBox(children=(Output(layout=Layout(border='1px solid lightgray', height='300px', overflow_y='auto', padding='…"
      ]
     },
     "metadata": {},
     "output_type": "display_data"
    }
   ],
   "source": [
    "import ipywidgets as widgets\n",
    "from IPython.display import display, HTML\n",
    "import traceback\n",
    "import re\n",
    "\n",
    "# --- Helper: Sanitize malformed markdown links ---\n",
    "def clean_malformed_links(text):\n",
    "    text = re.sub(r'\\[([^\\]]*)\\]\\(\\s*\\)', r'\\1', text)\n",
    "    text = re.sub(r'\\[\\]\\(([^)]*)\\)', r'\\1', text)\n",
    "    return text\n",
    "\n",
    "# --- UI Elements ---\n",
    "\n",
    "output_area = widgets.Output(layout={\n",
    "    'border': '1px solid lightgray',\n",
    "    'height': '300px',\n",
    "    'overflow_y': 'auto',\n",
    "    'padding': '10px',\n",
    "    'background_color': '#f9f9f9'\n",
    "})\n",
    "\n",
    "input_box = widgets.Text(\n",
    "    placeholder='Type your message here...',\n",
    "    layout=widgets.Layout(flex='1 1 auto', width='auto')\n",
    ")\n",
    "\n",
    "send_button = widgets.Button(description=\"Send\", button_style='success', tooltip=\"Send message\")\n",
    "exit_button = widgets.Button(description=\"Exit\", button_style='danger', tooltip=\"Exit chat\")\n",
    "\n",
    "input_controls = widgets.HBox([input_box, send_button, exit_button])\n",
    "chat_ui = widgets.VBox([output_area, input_controls])\n",
    "\n",
    "display(HTML(\n",
    "    \"<h4 style='color:green;'>📧 Email Assistant is running</h4>\"\n",
    "    \"<small>Type your message and press 'Send' or 'Enter'. Type 'exit' or press 'Exit' to quit.</small>\"\n",
    "))\n",
    "display(chat_ui)\n",
    "\n",
    "# --- Core Logic ---\n",
    "\n",
    "def exit_chat():\n",
    "    input_box.disabled = True\n",
    "    send_button.disabled = True\n",
    "    exit_button.disabled = True\n",
    "    with output_area:\n",
    "        print(\"\\nAssistant: Goodbye! 👋\")\n",
    "\n",
    "def handle_message(user_input):\n",
    "    \"\"\"Process user input and handle agent responses safely.\"\"\"\n",
    "    with output_area:\n",
    "        print(f\"\\nYou: {user_input}\")\n",
    "    \n",
    "    if user_input.lower() in ['exit', 'quit']:\n",
    "        exit_chat()\n",
    "        return\n",
    "\n",
    "    try:\n",
    "        with output_area:\n",
    "            agent.print_response(\n",
    "                user_input,\n",
    "                stream=True,\n",
    "                console=console\n",
    "            )\n",
    "    except IndexError as e:\n",
    "        with output_area:\n",
    "            print(\"⚠️ Markdown rendering failed. Retrying without streaming or markdown...\")\n",
    "        try:\n",
    "            with output_area:\n",
    "                agent.print_response(\n",
    "                    user_input,\n",
    "                    stream=False,\n",
    "                    markdown=False,\n",
    "                    console=console\n",
    "                )\n",
    "        except Exception as fallback_error:\n",
    "            with output_area:\n",
    "                print(\"⚠️ Fallback attempt also failed.\")\n",
    "                print(f\"Details: {fallback_error}\")\n",
    "                traceback.print_exc()\n",
    "    except Exception as e:\n",
    "        with output_area:\n",
    "            print(\"⚠️ An unexpected error occurred.\")\n",
    "            print(f\"Details: {e}\")\n",
    "            traceback.print_exc()\n",
    "\n",
    "\n",
    "def on_send_clicked(_):\n",
    "    user_input = input_box.value.strip()\n",
    "    input_box.value = \"\"\n",
    "    if user_input:\n",
    "        handle_message(user_input)\n",
    "\n",
    "def on_enter_pressed(change):\n",
    "    if change['name'] == 'value' and change['new'] == \"\":\n",
    "        on_send_clicked(None)\n",
    "\n",
    "# --- Event Bindings ---\n",
    "send_button.on_click(on_send_clicked)\n",
    "exit_button.on_click(lambda _: exit_chat())\n",
    "input_box.observe(on_enter_pressed, names='value')\n"
   ]
  },
  {
   "cell_type": "code",
   "execution_count": null,
   "id": "ab40e14e",
   "metadata": {},
   "outputs": [],
   "source": []
  }
 ],
 "metadata": {
  "kernelspec": {
   "display_name": "base",
   "language": "python",
   "name": "python3"
  },
  "language_info": {
   "codemirror_mode": {
    "name": "ipython",
    "version": 3
   },
   "file_extension": ".py",
   "mimetype": "text/x-python",
   "name": "python",
   "nbconvert_exporter": "python",
   "pygments_lexer": "ipython3",
   "version": "3.12.7"
  }
 },
 "nbformat": 4,
 "nbformat_minor": 5
}
